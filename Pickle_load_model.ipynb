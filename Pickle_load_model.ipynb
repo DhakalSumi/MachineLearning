{
 "cells": [
  {
   "cell_type": "code",
   "execution_count": 9,
   "id": "4c671a0e",
   "metadata": {},
   "outputs": [
    {
     "data": {
      "text/plain": [
       "array([211511.97887967])"
      ]
     },
     "execution_count": 9,
     "metadata": {},
     "output_type": "execute_result"
    }
   ],
   "source": [
    "# load model\n",
    "import pickle\n",
    "loaded_model = pickle.load(open('//Users//bee//Documents//models\\trained_pipe_knn.sav', 'rb'))\n",
    " \n",
    "# new house with fake data\n",
    "import pandas as pd\n",
    "new_house = pd.DataFrame({\n",
    "    'LotArea':[9000],\n",
    "    'TotalBsmtSF':[1000], \n",
    "    'BedroomAbvGr':[5], \n",
    "    'GarageCars':[4]\n",
    "})\n",
    " \n",
    "# prediction\n",
    "loaded_model.predict(new_house)"
   ]
  },
  {
   "cell_type": "code",
   "execution_count": 7,
   "id": "e7b8568d",
   "metadata": {},
   "outputs": [
    {
     "name": "stdout",
     "output_type": "stream",
     "text": [
      "Requirement already satisfied: streamlit in /usr/local/anaconda3/lib/python3.9/site-packages (1.22.0)\n",
      "Requirement already satisfied: tornado>=6.0.3 in /usr/local/anaconda3/lib/python3.9/site-packages (from streamlit) (6.1)\n",
      "Requirement already satisfied: toml in /usr/local/anaconda3/lib/python3.9/site-packages (from streamlit) (0.10.2)\n",
      "Requirement already satisfied: pandas<3,>=0.25 in /usr/local/anaconda3/lib/python3.9/site-packages (from streamlit) (1.4.4)\n",
      "Requirement already satisfied: python-dateutil in /usr/local/anaconda3/lib/python3.9/site-packages (from streamlit) (2.8.2)\n",
      "Requirement already satisfied: tzlocal>=1.1 in /usr/local/anaconda3/lib/python3.9/site-packages (from streamlit) (5.0.1)\n",
      "Requirement already satisfied: rich>=10.11.0 in /usr/local/anaconda3/lib/python3.9/site-packages (from streamlit) (13.3.5)\n",
      "Requirement already satisfied: tenacity<9,>=8.0.0 in /usr/local/anaconda3/lib/python3.9/site-packages (from streamlit) (8.0.1)\n",
      "Requirement already satisfied: cachetools>=4.0 in /usr/local/anaconda3/lib/python3.9/site-packages (from streamlit) (5.3.0)\n",
      "Requirement already satisfied: pydeck>=0.1.dev5 in /usr/local/anaconda3/lib/python3.9/site-packages (from streamlit) (0.8.1b0)\n",
      "Requirement already satisfied: requests>=2.4 in /usr/local/anaconda3/lib/python3.9/site-packages (from streamlit) (2.28.1)\n",
      "Requirement already satisfied: pyarrow>=4.0 in /usr/local/anaconda3/lib/python3.9/site-packages (from streamlit) (12.0.0)\n",
      "Requirement already satisfied: packaging>=14.1 in /usr/local/anaconda3/lib/python3.9/site-packages (from streamlit) (21.3)\n",
      "Requirement already satisfied: numpy in /usr/local/anaconda3/lib/python3.9/site-packages (from streamlit) (1.21.5)\n",
      "Requirement already satisfied: pympler>=0.9 in /usr/local/anaconda3/lib/python3.9/site-packages (from streamlit) (1.0.1)\n",
      "Requirement already satisfied: validators>=0.2 in /usr/local/anaconda3/lib/python3.9/site-packages (from streamlit) (0.20.0)\n",
      "Requirement already satisfied: importlib-metadata>=1.4 in /usr/local/anaconda3/lib/python3.9/site-packages (from streamlit) (4.11.3)\n",
      "Requirement already satisfied: typing-extensions>=3.10.0.0 in /usr/local/anaconda3/lib/python3.9/site-packages (from streamlit) (4.3.0)\n",
      "Requirement already satisfied: altair<5,>=3.2.0 in /usr/local/anaconda3/lib/python3.9/site-packages (from streamlit) (4.2.2)\n",
      "Requirement already satisfied: click>=7.0 in /usr/local/anaconda3/lib/python3.9/site-packages (from streamlit) (8.0.4)\n",
      "Requirement already satisfied: protobuf<4,>=3.12 in /usr/local/anaconda3/lib/python3.9/site-packages (from streamlit) (3.20.3)\n",
      "Requirement already satisfied: pillow>=6.2.0 in /usr/local/anaconda3/lib/python3.9/site-packages (from streamlit) (9.2.0)\n",
      "Requirement already satisfied: gitpython!=3.1.19 in /usr/local/anaconda3/lib/python3.9/site-packages (from streamlit) (3.1.31)\n",
      "Requirement already satisfied: blinker>=1.0.0 in /usr/local/anaconda3/lib/python3.9/site-packages (from streamlit) (1.6.2)\n",
      "Requirement already satisfied: entrypoints in /usr/local/anaconda3/lib/python3.9/site-packages (from altair<5,>=3.2.0->streamlit) (0.4)\n",
      "Requirement already satisfied: toolz in /usr/local/anaconda3/lib/python3.9/site-packages (from altair<5,>=3.2.0->streamlit) (0.11.2)\n",
      "Requirement already satisfied: jsonschema>=3.0 in /usr/local/anaconda3/lib/python3.9/site-packages (from altair<5,>=3.2.0->streamlit) (4.16.0)\n",
      "Requirement already satisfied: jinja2 in /usr/local/anaconda3/lib/python3.9/site-packages (from altair<5,>=3.2.0->streamlit) (2.11.3)\n",
      "Requirement already satisfied: gitdb<5,>=4.0.1 in /usr/local/anaconda3/lib/python3.9/site-packages (from gitpython!=3.1.19->streamlit) (4.0.10)\n",
      "Requirement already satisfied: zipp>=0.5 in /usr/local/anaconda3/lib/python3.9/site-packages (from importlib-metadata>=1.4->streamlit) (3.8.0)\n",
      "Requirement already satisfied: pyparsing!=3.0.5,>=2.0.2 in /usr/local/anaconda3/lib/python3.9/site-packages (from packaging>=14.1->streamlit) (3.0.9)\n",
      "Requirement already satisfied: pytz>=2020.1 in /usr/local/anaconda3/lib/python3.9/site-packages (from pandas<3,>=0.25->streamlit) (2022.1)\n",
      "Requirement already satisfied: six>=1.5 in /usr/local/anaconda3/lib/python3.9/site-packages (from python-dateutil->streamlit) (1.16.0)\n",
      "Requirement already satisfied: charset-normalizer<3,>=2 in /usr/local/anaconda3/lib/python3.9/site-packages (from requests>=2.4->streamlit) (2.0.4)\n",
      "Requirement already satisfied: certifi>=2017.4.17 in /usr/local/anaconda3/lib/python3.9/site-packages (from requests>=2.4->streamlit) (2022.9.24)\n",
      "Requirement already satisfied: idna<4,>=2.5 in /usr/local/anaconda3/lib/python3.9/site-packages (from requests>=2.4->streamlit) (3.3)\n",
      "Requirement already satisfied: urllib3<1.27,>=1.21.1 in /usr/local/anaconda3/lib/python3.9/site-packages (from requests>=2.4->streamlit) (1.26.11)\n",
      "Requirement already satisfied: markdown-it-py<3.0.0,>=2.2.0 in /usr/local/anaconda3/lib/python3.9/site-packages (from rich>=10.11.0->streamlit) (2.2.0)\n",
      "Requirement already satisfied: pygments<3.0.0,>=2.13.0 in /usr/local/anaconda3/lib/python3.9/site-packages (from rich>=10.11.0->streamlit) (2.15.1)\n",
      "Requirement already satisfied: decorator>=3.4.0 in /usr/local/anaconda3/lib/python3.9/site-packages (from validators>=0.2->streamlit) (5.1.1)\n",
      "Requirement already satisfied: smmap<6,>=3.0.1 in /usr/local/anaconda3/lib/python3.9/site-packages (from gitdb<5,>=4.0.1->gitpython!=3.1.19->streamlit) (5.0.0)\n",
      "Requirement already satisfied: MarkupSafe>=0.23 in /usr/local/anaconda3/lib/python3.9/site-packages (from jinja2->altair<5,>=3.2.0->streamlit) (2.0.1)\n",
      "Requirement already satisfied: attrs>=17.4.0 in /usr/local/anaconda3/lib/python3.9/site-packages (from jsonschema>=3.0->altair<5,>=3.2.0->streamlit) (21.4.0)\n",
      "Requirement already satisfied: pyrsistent!=0.17.0,!=0.17.1,!=0.17.2,>=0.14.0 in /usr/local/anaconda3/lib/python3.9/site-packages (from jsonschema>=3.0->altair<5,>=3.2.0->streamlit) (0.18.0)\n",
      "Requirement already satisfied: mdurl~=0.1 in /usr/local/anaconda3/lib/python3.9/site-packages (from markdown-it-py<3.0.0,>=2.2.0->rich>=10.11.0->streamlit) (0.1.2)\n"
     ]
    }
   ],
   "source": [
    "import sys\n",
    "!{sys.executable} -m pip install streamlit"
   ]
  },
  {
   "cell_type": "code",
   "execution_count": 8,
   "id": "3cf52183",
   "metadata": {},
   "outputs": [],
   "source": [
    "# Test this by saving it in seperate file with .py format\n",
    "\n",
    "import streamlit as st\n",
    " \n",
    "st.title(\"Housing Prices Prediction\")\n",
    " \n",
    "st.write(\"\"\"\n",
    "### Project description\n",
    "We have trained several models to predict the price of a house based on features such as the area of the house and the condition and quality of their different rooms.\n",
    " \n",
    "\"\"\")"
   ]
  },
  {
   "cell_type": "code",
   "execution_count": null,
   "id": "ed939168",
   "metadata": {},
   "outputs": [],
   "source": []
  }
 ],
 "metadata": {
  "kernelspec": {
   "display_name": "Python 3 (ipykernel)",
   "language": "python",
   "name": "python3"
  },
  "language_info": {
   "codemirror_mode": {
    "name": "ipython",
    "version": 3
   },
   "file_extension": ".py",
   "mimetype": "text/x-python",
   "name": "python",
   "nbconvert_exporter": "python",
   "pygments_lexer": "ipython3",
   "version": "3.9.13"
  }
 },
 "nbformat": 4,
 "nbformat_minor": 5
}
