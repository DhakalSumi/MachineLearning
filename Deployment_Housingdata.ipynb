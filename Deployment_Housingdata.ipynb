{
 "cells": [
  {
   "cell_type": "code",
   "execution_count": 17,
   "id": "f927bf47",
   "metadata": {},
   "outputs": [
    {
     "name": "stdout",
     "output_type": "stream",
     "text": [
      "0.7222877652002777\n"
     ]
    }
   ],
   "source": [
    "# reading\n",
    "import pandas as pd\n",
    "path = \"/Users/bee/Desktop/Data Science/Machine Learning/housing-deployment-reg.csv\"\n",
    "housing = pd.read_csv(path)\n",
    " \n",
    "# train test split\n",
    "from sklearn.model_selection import train_test_split\n",
    "X = housing.drop(columns=\"SalePrice\")\n",
    "y = housing[\"SalePrice\"]\n",
    "X_train, X_test, y_train, y_test = train_test_split(X, y, test_size=0.15, random_state=8)\n",
    " \n",
    "# pipeline\n",
    "from sklearn.pipeline import make_pipeline\n",
    "from sklearn.impute import SimpleImputer\n",
    "from sklearn.preprocessing import StandardScaler\n",
    "from sklearn.neighbors import KNeighborsRegressor\n",
    "pipe = make_pipeline(\n",
    "        SimpleImputer(strategy='median'),\n",
    "        StandardScaler(),\n",
    "        KNeighborsRegressor())\n",
    " \n",
    "# parameter grid for pipeline\n",
    "pipe_params = {\n",
    "    'simpleimputer__strategy':['median', 'mean'],\n",
    "    'standardscaler__with_mean':[True, False],\n",
    "    'kneighborsregressor__n_neighbors': list(range(1, 20)),\n",
    "    'kneighborsregressor__weights': ['uniform', 'distance'],\n",
    "    'kneighborsregressor__p': [1, 2],\n",
    "    'kneighborsregressor__algorithm': ['ball_tree', 'kd_tree', 'brute']}\n",
    " \n",
    "# grid search\n",
    "from sklearn.model_selection import GridSearchCV\n",
    "trained_pipe = GridSearchCV(pipe,\n",
    "                            pipe_params, \n",
    "                            cv = 5)\n",
    "trained_pipe.fit(X_train, y_train)\n",
    " \n",
    "# test accuracy on the test set\n",
    "from sklearn.metrics import r2_score\n",
    " \n",
    "y_pred = trained_pipe.predict(X_test)\n",
    " \n",
    "r2 = r2_score(y_test, y_pred)\n",
    "print(r2)"
   ]
  },
  {
   "cell_type": "code",
   "execution_count": 18,
   "id": "09119714",
   "metadata": {},
   "outputs": [
    {
     "name": "stdout",
     "output_type": "stream",
     "text": [
      "Collecting package metadata (current_repodata.json): done\n",
      "Solving environment: failed with initial frozen solve. Retrying with flexible solve.\n",
      "Collecting package metadata (repodata.json): done\n",
      "Solving environment: failed with initial frozen solve. Retrying with flexible solve.\n",
      "\n",
      "PackagesNotFoundError: The following packages are not available from current channels:\n",
      "\n",
      "  - pickle\n",
      "\n",
      "Current channels:\n",
      "\n",
      "  - https://conda.anaconda.org/conda-forge/osx-64\n",
      "  - https://conda.anaconda.org/conda-forge/noarch\n",
      "  - https://repo.anaconda.com/pkgs/main/osx-64\n",
      "  - https://repo.anaconda.com/pkgs/main/noarch\n",
      "  - https://repo.anaconda.com/pkgs/r/osx-64\n",
      "  - https://repo.anaconda.com/pkgs/r/noarch\n",
      "\n",
      "To search for alternate channels that may provide the conda package you're\n",
      "looking for, navigate to\n",
      "\n",
      "    https://anaconda.org\n",
      "\n",
      "and use the search bar at the top of the page.\n",
      "\n",
      "\n",
      "\n",
      "Note: you may need to restart the kernel to use updated packages.\n"
     ]
    }
   ],
   "source": [
    "conda install -c conda-forge pickle"
   ]
  },
  {
   "cell_type": "code",
   "execution_count": 19,
   "id": "6b8544f0",
   "metadata": {},
   "outputs": [],
   "source": [
    "# store the trained pipeline\n",
    "import pickle\n",
    "pickle.dump(trained_pipe, \n",
    "            open(file='//Users//bee/Documents//models\\trained_pipe_knn.sav', \n",
    "                 mode='wb'))"
   ]
  },
  {
   "cell_type": "code",
   "execution_count": 11,
   "id": "300d95ea",
   "metadata": {},
   "outputs": [],
   "source": [
    "import pickle"
   ]
  },
  {
   "cell_type": "code",
   "execution_count": null,
   "id": "77be57ce-e055-48b2-bb03-b36149186e5a",
   "metadata": {},
   "outputs": [],
   "source": []
  }
 ],
 "metadata": {
  "kernelspec": {
   "display_name": "Python 3 (ipykernel)",
   "language": "python",
   "name": "python3"
  },
  "language_info": {
   "codemirror_mode": {
    "name": "ipython",
    "version": 3
   },
   "file_extension": ".py",
   "mimetype": "text/x-python",
   "name": "python",
   "nbconvert_exporter": "python",
   "pygments_lexer": "ipython3",
   "version": "3.9.13"
  }
 },
 "nbformat": 4,
 "nbformat_minor": 5
}
